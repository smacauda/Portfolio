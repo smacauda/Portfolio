{
 "cells": [
  {
   "cell_type": "markdown",
   "id": "371153b8",
   "metadata": {},
   "source": [
    "# Customer Churn Prediction "
   ]
  },
  {
   "cell_type": "markdown",
   "id": "0179e9ac",
   "metadata": {},
   "source": [
    "[Telco Customer Churn](https://www.kaggle.com/blastchar/telco-customer-churn) dataset taken from Kaggle."
   ]
  },
  {
   "cell_type": "markdown",
   "id": "a17f6f51",
   "metadata": {},
   "source": [
    "## Explore Data"
   ]
  },
  {
   "cell_type": "code",
   "execution_count": 2,
   "id": "2764ac85",
   "metadata": {
    "scrolled": true
   },
   "outputs": [
    {
     "data": {
      "text/plain": [
       "(7043, 21)"
      ]
     },
     "execution_count": 2,
     "metadata": {},
     "output_type": "execute_result"
    }
   ],
   "source": [
    "import numpy as np\n",
    "import pandas as pd\n",
    "import matplotlib.pyplot as plt\n",
    "import seaborn as sns\n",
    "%matplotlib inline\n",
    "\n",
    "df = pd.read_csv(\"Telco-Customer-Churn.csv\")\n",
    "df.shape"
   ]
  },
  {
   "cell_type": "markdown",
   "id": "241af201",
   "metadata": {},
   "source": [
    "Let's check for null values"
   ]
  },
  {
   "cell_type": "code",
   "execution_count": 4,
   "id": "65895826",
   "metadata": {
    "scrolled": true
   },
   "outputs": [
    {
     "data": {
      "text/plain": [
       "0"
      ]
     },
     "execution_count": 4,
     "metadata": {},
     "output_type": "execute_result"
    }
   ],
   "source": [
    "df.isna().sum().sum()"
   ]
  },
  {
   "cell_type": "markdown",
   "id": "8303311a",
   "metadata": {},
   "source": [
    "We see that 1869 customers churned or 26.5%. "
   ]
  },
  {
   "cell_type": "code",
   "execution_count": 82,
   "id": "e98ab1a4",
   "metadata": {},
   "outputs": [
    {
     "data": {
      "text/plain": [
       "No     5174\n",
       "Yes    1869\n",
       "Name: Churn, dtype: int64"
      ]
     },
     "execution_count": 82,
     "metadata": {},
     "output_type": "execute_result"
    }
   ],
   "source": [
    "df.Churn.value_counts()"
   ]
  },
  {
   "cell_type": "markdown",
   "id": "47c23f9e",
   "metadata": {},
   "source": [
    "### Examine Features"
   ]
  },
  {
   "cell_type": "markdown",
   "id": "2b2671e1",
   "metadata": {},
   "source": [
    "Let's look at some of the features vs. churn. "
   ]
  },
  {
   "cell_type": "code",
   "execution_count": 86,
   "id": "419e851c",
   "metadata": {},
   "outputs": [
    {
     "data": {
      "text/plain": [
       "<AxesSubplot:xlabel='PaperlessBilling', ylabel='count'>"
      ]
     },
     "execution_count": 86,
     "metadata": {},
     "output_type": "execute_result"
    },
    {
     "data": {
      "image/png": "[encoded data removed]",
      "text/plain": [
       "<Figure size 864x504 with 6 Axes>"
      ]
     },
     "metadata": {
      "needs_background": "light"
     },
     "output_type": "display_data"
    }
   ],
   "source": [
    "fig, axes = plt.subplots(2, 3, figsize=(12, 7), sharey=True)\n",
    "sns.countplot(x=\"gender\", data=df, ax=axes[0,0])\n",
    "sns.countplot(x=\"SeniorCitizen\", data=df, ax=axes[0,1])\n",
    "sns.countplot(x=\"Partner\", data=df, ax=axes[0,2])\n",
    "sns.countplot(x=\"Dependents\", data=df, ax=axes[1,0])\n",
    "sns.countplot(x=\"PhoneService\", data=df, ax=axes[1,1])\n",
    "sns.countplot(x=\"PaperlessBilling\", data=df, ax=axes[1,2])"
   ]
  },
  {
   "cell_type": "markdown",
   "id": "74a903d3",
   "metadata": {},
   "source": [
    "Assign numeric value to churn for analysis."
   ]
  },
  {
   "cell_type": "code",
   "execution_count": 87,
   "id": "bd40da6a",
   "metadata": {},
   "outputs": [],
   "source": [
    "churn_numeric = {'Yes':1, 'No':0}\n",
    "df.Churn.replace(churn_numeric, inplace=True)"
   ]
  },
  {
   "cell_type": "code",
   "execution_count": 88,
   "id": "31be97be",
   "metadata": {},
   "outputs": [
    {
     "name": "stdout",
     "output_type": "stream",
     "text": [
      "           Churn\n",
      "gender          \n",
      "Female  0.269209\n",
      "Male    0.261603                   Churn\n",
      "SeniorCitizen          \n",
      "0              0.236062\n",
      "1              0.416813             Churn\n",
      "Partner          \n",
      "No       0.329580\n",
      "Yes      0.196649                Churn\n",
      "Dependents          \n",
      "No          0.312791\n",
      "Yes         0.154502                  Churn\n",
      "PhoneService          \n",
      "No            0.249267\n",
      "Yes           0.267096                      Churn\n",
      "PaperlessBilling          \n",
      "No                0.163301\n",
      "Yes               0.335651\n"
     ]
    }
   ],
   "source": [
    "print(df[['gender','Churn']].groupby(['gender']).mean(),\n",
    "        df[['SeniorCitizen','Churn']].groupby(['SeniorCitizen']).mean(), \n",
    "        df[['Partner','Churn']].groupby(['Partner']).mean(), \n",
    "        df[['Dependents','Churn']].groupby(['Dependents']).mean(), \n",
    "        df[['PhoneService','Churn']].groupby(['PhoneService']).mean(), \n",
    "        df[['PaperlessBilling','Churn']].groupby(['PaperlessBilling']).mean()\n",
    "     )"
   ]
  },
  {
   "cell_type": "code",
   "execution_count": 32,
   "id": "7385a957",
   "metadata": {},
   "outputs": [
    {
     "data": {
      "text/html": [
       "<div>\n",
       "<style scoped>\n",
       "    .dataframe tbody tr th:only-of-type {\n",
       "        vertical-align: middle;\n",
       "    }\n",
       "\n",
       "    .dataframe tbody tr th {\n",
       "        vertical-align: top;\n",
       "    }\n",
       "\n",
       "    .dataframe thead th {\n",
       "        text-align: right;\n",
       "    }\n",
       "</style>\n",
       "<table border=\"1\" class=\"dataframe\">\n",
       "  <thead>\n",
       "    <tr style=\"text-align: right;\">\n",
       "      <th>SeniorCitizen</th>\n",
       "      <th>0</th>\n",
       "      <th>1</th>\n",
       "    </tr>\n",
       "    <tr>\n",
       "      <th>gender</th>\n",
       "      <th></th>\n",
       "      <th></th>\n",
       "    </tr>\n",
       "  </thead>\n",
       "  <tbody>\n",
       "    <tr>\n",
       "      <th>Female</th>\n",
       "      <td>0.239384</td>\n",
       "      <td>0.422535</td>\n",
       "    </tr>\n",
       "    <tr>\n",
       "      <th>Male</th>\n",
       "      <td>0.232808</td>\n",
       "      <td>0.411150</td>\n",
       "    </tr>\n",
       "  </tbody>\n",
       "</table>\n",
       "</div>"
      ],
      "text/plain": [
       "SeniorCitizen         0         1\n",
       "gender                           \n",
       "Female         0.239384  0.422535\n",
       "Male           0.232808  0.411150"
      ]
     },
     "execution_count": 32,
     "metadata": {},
     "output_type": "execute_result"
    }
   ],
   "source": [
    "table = pd.pivot_table(df, values='Churn', index=['gender'],\n",
    "                    columns=['SeniorCitizen'], aggfunc=np.mean)\n",
    "table"
   ]
  },
  {
   "cell_type": "code",
   "execution_count": 97,
   "id": "07321be6",
   "metadata": {},
   "outputs": [
    {
     "data": {
      "text/plain": [
       "<AxesSubplot:xlabel='InternetService', ylabel='count'>"
      ]
     },
     "execution_count": 97,
     "metadata": {},
     "output_type": "execute_result"
    },
    {
     "data": {
      "image/png": "[encoded data removed]",
      "text/plain": [
       "<Figure size 432x288 with 1 Axes>"
      ]
     },
     "metadata": {
      "needs_background": "light"
     },
     "output_type": "display_data"
    }
   ],
   "source": [
    "sns.countplot(x=\"InternetService\", data=df)"
   ]
  },
  {
   "cell_type": "code",
   "execution_count": 34,
   "id": "7231a142",
   "metadata": {},
   "outputs": [
    {
     "data": {
      "text/html": [
       "<div>\n",
       "<style scoped>\n",
       "    .dataframe tbody tr th:only-of-type {\n",
       "        vertical-align: middle;\n",
       "    }\n",
       "\n",
       "    .dataframe tbody tr th {\n",
       "        vertical-align: top;\n",
       "    }\n",
       "\n",
       "    .dataframe thead th {\n",
       "        text-align: right;\n",
       "    }\n",
       "</style>\n",
       "<table border=\"1\" class=\"dataframe\">\n",
       "  <thead>\n",
       "    <tr style=\"text-align: right;\">\n",
       "      <th></th>\n",
       "      <th>Churn</th>\n",
       "    </tr>\n",
       "    <tr>\n",
       "      <th>InternetService</th>\n",
       "      <th></th>\n",
       "    </tr>\n",
       "  </thead>\n",
       "  <tbody>\n",
       "    <tr>\n",
       "      <th>DSL</th>\n",
       "      <td>0.189591</td>\n",
       "    </tr>\n",
       "    <tr>\n",
       "      <th>Fiber optic</th>\n",
       "      <td>0.418928</td>\n",
       "    </tr>\n",
       "    <tr>\n",
       "      <th>No</th>\n",
       "      <td>0.074050</td>\n",
       "    </tr>\n",
       "  </tbody>\n",
       "</table>\n",
       "</div>"
      ],
      "text/plain": [
       "                    Churn\n",
       "InternetService          \n",
       "DSL              0.189591\n",
       "Fiber optic      0.418928\n",
       "No               0.074050"
      ]
     },
     "execution_count": 34,
     "metadata": {},
     "output_type": "execute_result"
    }
   ],
   "source": [
    "df[['InternetService', 'Churn']].groupby('InternetService').mean()"
   ]
  },
  {
   "cell_type": "code",
   "execution_count": 35,
   "id": "0e2d5784",
   "metadata": {},
   "outputs": [
    {
     "data": {
      "text/html": [
       "<div>\n",
       "<style scoped>\n",
       "    .dataframe tbody tr th:only-of-type {\n",
       "        vertical-align: middle;\n",
       "    }\n",
       "\n",
       "    .dataframe tbody tr th {\n",
       "        vertical-align: top;\n",
       "    }\n",
       "\n",
       "    .dataframe thead th {\n",
       "        text-align: right;\n",
       "    }\n",
       "</style>\n",
       "<table border=\"1\" class=\"dataframe\">\n",
       "  <thead>\n",
       "    <tr style=\"text-align: right;\">\n",
       "      <th></th>\n",
       "      <th>MonthlyCharges</th>\n",
       "    </tr>\n",
       "    <tr>\n",
       "      <th>InternetService</th>\n",
       "      <th></th>\n",
       "    </tr>\n",
       "  </thead>\n",
       "  <tbody>\n",
       "    <tr>\n",
       "      <th>DSL</th>\n",
       "      <td>58.102169</td>\n",
       "    </tr>\n",
       "    <tr>\n",
       "      <th>Fiber optic</th>\n",
       "      <td>91.500129</td>\n",
       "    </tr>\n",
       "    <tr>\n",
       "      <th>No</th>\n",
       "      <td>21.079194</td>\n",
       "    </tr>\n",
       "  </tbody>\n",
       "</table>\n",
       "</div>"
      ],
      "text/plain": [
       "                 MonthlyCharges\n",
       "InternetService                \n",
       "DSL                   58.102169\n",
       "Fiber optic           91.500129\n",
       "No                    21.079194"
      ]
     },
     "execution_count": 35,
     "metadata": {},
     "output_type": "execute_result"
    }
   ],
   "source": [
    "df[['InternetService', 'MonthlyCharges']].groupby('InternetService').mean()"
   ]
  },
  {
   "cell_type": "code",
   "execution_count": 90,
   "id": "2b842c8f",
   "metadata": {},
   "outputs": [
    {
     "data": {
      "text/plain": [
       "<AxesSubplot:xlabel='TechSupport', ylabel='count'>"
      ]
     },
     "execution_count": 90,
     "metadata": {},
     "output_type": "execute_result"
    },
    {
     "data": {
      "image/png": "[encoded data removed]",
      "text/plain": [
       "<Figure size 864x504 with 6 Axes>"
      ]
     },
     "metadata": {
      "needs_background": "light"
     },
     "output_type": "display_data"
    }
   ],
   "source": [
    "fig, axes = plt.subplots(2, 3, figsize=(12, 7), sharey=True)\n",
    "sns.countplot(x=\"StreamingTV\", data=df, ax=axes[0,0])\n",
    "sns.countplot(x=\"StreamingMovies\", data=df, ax=axes[0,1])\n",
    "sns.countplot(x=\"OnlineSecurity\", data=df, ax=axes[0,2])\n",
    "sns.countplot(x=\"OnlineBackup\", data=df, ax=axes[1,0])\n",
    "sns.countplot(x=\"DeviceProtection\", data=df, ax=axes[1,1])\n",
    "sns.countplot(x=\"TechSupport\", data=df, ax=axes[1,2])"
   ]
  },
  {
   "cell_type": "code",
   "execution_count": 39,
   "id": "5d1ec655",
   "metadata": {},
   "outputs": [
    {
     "name": "stdout",
     "output_type": "stream",
     "text": [
      "                        Churn\n",
      "StreamingTV                  \n",
      "No                   0.335231\n",
      "No internet service  0.074050\n",
      "Yes                  0.300702                         Churn\n",
      "StreamingMovies              \n",
      "No                   0.336804\n",
      "No internet service  0.074050\n",
      "Yes                  0.299414                         Churn\n",
      "OnlineSecurity               \n",
      "No                   0.417667\n",
      "No internet service  0.074050\n",
      "Yes                  0.146112                         Churn\n",
      "OnlineBackup                 \n",
      "No                   0.399288\n",
      "No internet service  0.074050\n",
      "Yes                  0.215315                         Churn\n",
      "DeviceProtection             \n",
      "No                   0.391276\n",
      "No internet service  0.074050\n",
      "Yes                  0.225021                         Churn\n",
      "TechSupport                  \n",
      "No                   0.416355\n",
      "No internet service  0.074050\n",
      "Yes                  0.151663\n"
     ]
    }
   ],
   "source": [
    "print(df[['StreamingTV','Churn']].groupby(['StreamingTV']).mean(),\n",
    "        df[['StreamingMovies','Churn']].groupby(['StreamingMovies']).mean(), \n",
    "        df[['OnlineSecurity','Churn']].groupby(['OnlineSecurity']).mean(), \n",
    "        df[['OnlineBackup','Churn']].groupby(['OnlineBackup']).mean(), \n",
    "        df[['DeviceProtection','Churn']].groupby(['DeviceProtection']).mean(), \n",
    "        df[['TechSupport','Churn']].groupby(['TechSupport']).mean()\n",
    "     )"
   ]
  },
  {
   "cell_type": "code",
   "execution_count": 40,
   "id": "63dddbd7",
   "metadata": {},
   "outputs": [
    {
     "data": {
      "text/plain": [
       "Yes    6361\n",
       "No      682\n",
       "Name: PhoneService, dtype: int64"
      ]
     },
     "execution_count": 40,
     "metadata": {},
     "output_type": "execute_result"
    }
   ],
   "source": [
    "df.PhoneService.value_counts()"
   ]
  },
  {
   "cell_type": "code",
   "execution_count": 41,
   "id": "cb062f67",
   "metadata": {},
   "outputs": [
    {
     "data": {
      "text/plain": [
       "No                  3390\n",
       "Yes                 2971\n",
       "No phone service     682\n",
       "Name: MultipleLines, dtype: int64"
      ]
     },
     "execution_count": 41,
     "metadata": {},
     "output_type": "execute_result"
    }
   ],
   "source": [
    "df.MultipleLines.value_counts()"
   ]
  },
  {
   "cell_type": "code",
   "execution_count": 42,
   "id": "0dd5624d",
   "metadata": {},
   "outputs": [
    {
     "data": {
      "text/html": [
       "<div>\n",
       "<style scoped>\n",
       "    .dataframe tbody tr th:only-of-type {\n",
       "        vertical-align: middle;\n",
       "    }\n",
       "\n",
       "    .dataframe tbody tr th {\n",
       "        vertical-align: top;\n",
       "    }\n",
       "\n",
       "    .dataframe thead th {\n",
       "        text-align: right;\n",
       "    }\n",
       "</style>\n",
       "<table border=\"1\" class=\"dataframe\">\n",
       "  <thead>\n",
       "    <tr style=\"text-align: right;\">\n",
       "      <th></th>\n",
       "      <th>Churn</th>\n",
       "    </tr>\n",
       "    <tr>\n",
       "      <th>MultipleLines</th>\n",
       "      <th></th>\n",
       "    </tr>\n",
       "  </thead>\n",
       "  <tbody>\n",
       "    <tr>\n",
       "      <th>No</th>\n",
       "      <td>0.250442</td>\n",
       "    </tr>\n",
       "    <tr>\n",
       "      <th>No phone service</th>\n",
       "      <td>0.249267</td>\n",
       "    </tr>\n",
       "    <tr>\n",
       "      <th>Yes</th>\n",
       "      <td>0.286099</td>\n",
       "    </tr>\n",
       "  </tbody>\n",
       "</table>\n",
       "</div>"
      ],
      "text/plain": [
       "                     Churn\n",
       "MultipleLines             \n",
       "No                0.250442\n",
       "No phone service  0.249267\n",
       "Yes               0.286099"
      ]
     },
     "execution_count": 42,
     "metadata": {},
     "output_type": "execute_result"
    }
   ],
   "source": [
    "df[['MultipleLines','Churn']].groupby(['MultipleLines']).mean()"
   ]
  },
  {
   "cell_type": "code",
   "execution_count": 96,
   "id": "bf417497",
   "metadata": {},
   "outputs": [
    {
     "data": {
      "text/plain": [
       "<AxesSubplot:xlabel='Contract', ylabel='count'>"
      ]
     },
     "execution_count": 96,
     "metadata": {},
     "output_type": "execute_result"
    },
    {
     "data": {
      "image/png": "[encoded data removed]",
      "text/plain": [
       "<Figure size 720x432 with 1 Axes>"
      ]
     },
     "metadata": {
      "needs_background": "light"
     },
     "output_type": "display_data"
    }
   ],
   "source": [
    "plt.figure(figsize=(10,6))\n",
    "sns.countplot(x=\"Contract\", data=df)"
   ]
  },
  {
   "cell_type": "code",
   "execution_count": 44,
   "id": "a367fdd6",
   "metadata": {},
   "outputs": [
    {
     "data": {
      "text/html": [
       "<div>\n",
       "<style scoped>\n",
       "    .dataframe tbody tr th:only-of-type {\n",
       "        vertical-align: middle;\n",
       "    }\n",
       "\n",
       "    .dataframe tbody tr th {\n",
       "        vertical-align: top;\n",
       "    }\n",
       "\n",
       "    .dataframe thead th {\n",
       "        text-align: right;\n",
       "    }\n",
       "</style>\n",
       "<table border=\"1\" class=\"dataframe\">\n",
       "  <thead>\n",
       "    <tr style=\"text-align: right;\">\n",
       "      <th></th>\n",
       "      <th>Churn</th>\n",
       "    </tr>\n",
       "    <tr>\n",
       "      <th>Contract</th>\n",
       "      <th></th>\n",
       "    </tr>\n",
       "  </thead>\n",
       "  <tbody>\n",
       "    <tr>\n",
       "      <th>Month-to-month</th>\n",
       "      <td>0.427097</td>\n",
       "    </tr>\n",
       "    <tr>\n",
       "      <th>One year</th>\n",
       "      <td>0.112695</td>\n",
       "    </tr>\n",
       "    <tr>\n",
       "      <th>Two year</th>\n",
       "      <td>0.028319</td>\n",
       "    </tr>\n",
       "  </tbody>\n",
       "</table>\n",
       "</div>"
      ],
      "text/plain": [
       "                   Churn\n",
       "Contract                \n",
       "Month-to-month  0.427097\n",
       "One year        0.112695\n",
       "Two year        0.028319"
      ]
     },
     "execution_count": 44,
     "metadata": {},
     "output_type": "execute_result"
    }
   ],
   "source": [
    "df[['Contract','Churn']].groupby(['Contract']).mean()"
   ]
  },
  {
   "cell_type": "code",
   "execution_count": 98,
   "id": "c90d0adb",
   "metadata": {},
   "outputs": [
    {
     "data": {
      "text/plain": [
       "<AxesSubplot:xlabel='PaymentMethod', ylabel='count'>"
      ]
     },
     "execution_count": 98,
     "metadata": {},
     "output_type": "execute_result"
    },
    {
     "data": {
      "image/png": "[encoded data removed]",
      "text/plain": [
       "<Figure size 720x432 with 1 Axes>"
      ]
     },
     "metadata": {
      "needs_background": "light"
     },
     "output_type": "display_data"
    }
   ],
   "source": [
    "plt.figure(figsize=(10,6))\n",
    "sns.countplot(x=\"PaymentMethod\", data=df)"
   ]
  },
  {
   "cell_type": "code",
   "execution_count": 46,
   "id": "6277e8e9",
   "metadata": {},
   "outputs": [
    {
     "data": {
      "text/html": [
       "<div>\n",
       "<style scoped>\n",
       "    .dataframe tbody tr th:only-of-type {\n",
       "        vertical-align: middle;\n",
       "    }\n",
       "\n",
       "    .dataframe tbody tr th {\n",
       "        vertical-align: top;\n",
       "    }\n",
       "\n",
       "    .dataframe thead th {\n",
       "        text-align: right;\n",
       "    }\n",
       "</style>\n",
       "<table border=\"1\" class=\"dataframe\">\n",
       "  <thead>\n",
       "    <tr style=\"text-align: right;\">\n",
       "      <th></th>\n",
       "      <th>Churn</th>\n",
       "    </tr>\n",
       "    <tr>\n",
       "      <th>PaymentMethod</th>\n",
       "      <th></th>\n",
       "    </tr>\n",
       "  </thead>\n",
       "  <tbody>\n",
       "    <tr>\n",
       "      <th>Bank transfer (automatic)</th>\n",
       "      <td>0.167098</td>\n",
       "    </tr>\n",
       "    <tr>\n",
       "      <th>Credit card (automatic)</th>\n",
       "      <td>0.152431</td>\n",
       "    </tr>\n",
       "    <tr>\n",
       "      <th>Electronic check</th>\n",
       "      <td>0.452854</td>\n",
       "    </tr>\n",
       "    <tr>\n",
       "      <th>Mailed check</th>\n",
       "      <td>0.191067</td>\n",
       "    </tr>\n",
       "  </tbody>\n",
       "</table>\n",
       "</div>"
      ],
      "text/plain": [
       "                              Churn\n",
       "PaymentMethod                      \n",
       "Bank transfer (automatic)  0.167098\n",
       "Credit card (automatic)    0.152431\n",
       "Electronic check           0.452854\n",
       "Mailed check               0.191067"
      ]
     },
     "execution_count": 46,
     "metadata": {},
     "output_type": "execute_result"
    }
   ],
   "source": [
    "df[['PaymentMethod','Churn']].groupby(['PaymentMethod']).mean()"
   ]
  },
  {
   "cell_type": "code",
   "execution_count": 94,
   "id": "bca343f6",
   "metadata": {},
   "outputs": [
    {
     "data": {
      "text/plain": [
       "<AxesSubplot:xlabel='MonthlyCharges', ylabel='Count'>"
      ]
     },
     "execution_count": 94,
     "metadata": {},
     "output_type": "execute_result"
    },
    {
     "data": {
      "image/png": "[encoded data removed]",
      "text/plain": [
       "<Figure size 864x504 with 2 Axes>"
      ]
     },
     "metadata": {
      "needs_background": "light"
     },
     "output_type": "display_data"
    }
   ],
   "source": [
    "fig, axes = plt.subplots(1,2, figsize=(12, 7))\n",
    "sns.histplot(df[\"tenure\"], ax=axes[0], kde=True, linewidth=0)\n",
    "sns.histplot(df[\"MonthlyCharges\"], ax=axes[1], kde=True, linewidth=0)"
   ]
  },
  {
   "cell_type": "code",
   "execution_count": 49,
   "id": "c37e6a89",
   "metadata": {},
   "outputs": [
    {
     "data": {
      "text/html": [
       "<div>\n",
       "<style scoped>\n",
       "    .dataframe tbody tr th:only-of-type {\n",
       "        vertical-align: middle;\n",
       "    }\n",
       "\n",
       "    .dataframe tbody tr th {\n",
       "        vertical-align: top;\n",
       "    }\n",
       "\n",
       "    .dataframe thead th {\n",
       "        text-align: right;\n",
       "    }\n",
       "</style>\n",
       "<table border=\"1\" class=\"dataframe\">\n",
       "  <thead>\n",
       "    <tr style=\"text-align: right;\">\n",
       "      <th></th>\n",
       "      <th>tenure</th>\n",
       "      <th>MonthlyCharges</th>\n",
       "    </tr>\n",
       "    <tr>\n",
       "      <th>Churn</th>\n",
       "      <th></th>\n",
       "      <th></th>\n",
       "    </tr>\n",
       "  </thead>\n",
       "  <tbody>\n",
       "    <tr>\n",
       "      <th>0</th>\n",
       "      <td>37.569965</td>\n",
       "      <td>61.265124</td>\n",
       "    </tr>\n",
       "    <tr>\n",
       "      <th>1</th>\n",
       "      <td>17.979133</td>\n",
       "      <td>74.441332</td>\n",
       "    </tr>\n",
       "  </tbody>\n",
       "</table>\n",
       "</div>"
      ],
      "text/plain": [
       "          tenure  MonthlyCharges\n",
       "Churn                           \n",
       "0      37.569965       61.265124\n",
       "1      17.979133       74.441332"
      ]
     },
     "execution_count": 49,
     "metadata": {},
     "output_type": "execute_result"
    }
   ],
   "source": [
    "df[['tenure', 'MonthlyCharges', 'Churn']].groupby(['Churn']).mean()"
   ]
  },
  {
   "cell_type": "code",
   "execution_count": 50,
   "id": "03f30ad1",
   "metadata": {},
   "outputs": [
    {
     "data": {
      "text/html": [
       "<div>\n",
       "<style scoped>\n",
       "    .dataframe tbody tr th:only-of-type {\n",
       "        vertical-align: middle;\n",
       "    }\n",
       "\n",
       "    .dataframe tbody tr th {\n",
       "        vertical-align: top;\n",
       "    }\n",
       "\n",
       "    .dataframe thead th {\n",
       "        text-align: right;\n",
       "    }\n",
       "</style>\n",
       "<table border=\"1\" class=\"dataframe\">\n",
       "  <thead>\n",
       "    <tr style=\"text-align: right;\">\n",
       "      <th></th>\n",
       "      <th>tenure</th>\n",
       "    </tr>\n",
       "    <tr>\n",
       "      <th>Contract</th>\n",
       "      <th></th>\n",
       "    </tr>\n",
       "  </thead>\n",
       "  <tbody>\n",
       "    <tr>\n",
       "      <th>Month-to-month</th>\n",
       "      <td>18.036645</td>\n",
       "    </tr>\n",
       "    <tr>\n",
       "      <th>One year</th>\n",
       "      <td>42.044807</td>\n",
       "    </tr>\n",
       "    <tr>\n",
       "      <th>Two year</th>\n",
       "      <td>56.735103</td>\n",
       "    </tr>\n",
       "  </tbody>\n",
       "</table>\n",
       "</div>"
      ],
      "text/plain": [
       "                   tenure\n",
       "Contract                 \n",
       "Month-to-month  18.036645\n",
       "One year        42.044807\n",
       "Two year        56.735103"
      ]
     },
     "execution_count": 50,
     "metadata": {},
     "output_type": "execute_result"
    }
   ],
   "source": [
    "df[['Contract','tenure']].groupby(['Contract']).mean()"
   ]
  },
  {
   "cell_type": "code",
   "execution_count": 52,
   "id": "b92f040a",
   "metadata": {},
   "outputs": [],
   "source": [
    "df.drop(['customerID','gender','PhoneService','Contract','TotalCharges'], axis=1, inplace=True)"
   ]
  },
  {
   "cell_type": "markdown",
   "id": "fceb4571",
   "metadata": {},
   "source": [
    "## Data Preprocessing"
   ]
  },
  {
   "cell_type": "code",
   "execution_count": 53,
   "id": "a4fad3e1",
   "metadata": {},
   "outputs": [],
   "source": [
    "from sklearn.preprocessing import LabelEncoder, OneHotEncoder\n",
    "from sklearn.preprocessing import MinMaxScaler"
   ]
  },
  {
   "cell_type": "code",
   "execution_count": 56,
   "id": "70c08680",
   "metadata": {},
   "outputs": [],
   "source": [
    "cat_features = ['SeniorCitizen', 'Partner', 'Dependents',\n",
    "'MultipleLines', 'InternetService','OnlineSecurity', \n",
    "                'OnlineBackup', 'DeviceProtection', 'TechSupport', \n",
    "                'StreamingTV', 'StreamingMovies', 'PaperlessBilling', \n",
    "                'PaymentMethod']\n",
    "X = pd.get_dummies(df, columns=cat_features, drop_first=True)"
   ]
  },
  {
   "cell_type": "code",
   "execution_count": 57,
   "id": "51ec11db",
   "metadata": {},
   "outputs": [],
   "source": [
    "sc = MinMaxScaler()\n",
    "a = sc.fit_transform(df[['tenure']])\n",
    "b = sc.fit_transform(df[['MonthlyCharges']])\n",
    "X['tenure'] = a\n",
    "X['MonthlyCharges'] = b"
   ]
  },
  {
   "cell_type": "code",
   "execution_count": 58,
   "id": "9499a34b",
   "metadata": {},
   "outputs": [
    {
     "data": {
      "text/plain": [
       "(7043, 26)"
      ]
     },
     "execution_count": 58,
     "metadata": {},
     "output_type": "execute_result"
    }
   ],
   "source": [
    "X.shape"
   ]
  },
  {
   "cell_type": "code",
   "execution_count": 99,
   "id": "8f60c1f8",
   "metadata": {},
   "outputs": [
    {
     "data": {
      "text/plain": [
       "Text(0.5, 1.0, 'Class Distribution Before Resampling')"
      ]
     },
     "execution_count": 99,
     "metadata": {},
     "output_type": "execute_result"
    },
    {
     "data": {
      "image/png": "[encoded data removed]",
      "text/plain": [
       "<Figure size 432x288 with 1 Axes>"
      ]
     },
     "metadata": {
      "needs_background": "light"
     },
     "output_type": "display_data"
    }
   ],
   "source": [
    "sns.countplot(x='Churn', data=df).set_title('Class Distribution Before Resampling')"
   ]
  },
  {
   "cell_type": "code",
   "execution_count": 60,
   "id": "c098f75c",
   "metadata": {},
   "outputs": [],
   "source": [
    "X_no = X[X.Churn == 0]\n",
    "X_yes = X[X.Churn == 1]"
   ]
  },
  {
   "cell_type": "code",
   "execution_count": 61,
   "id": "162dc345",
   "metadata": {},
   "outputs": [
    {
     "name": "stdout",
     "output_type": "stream",
     "text": [
      "5174\n"
     ]
    }
   ],
   "source": [
    "X_yes_upsampled = X_yes.sample(n=len(X_no), replace=True, random_state=42)\n",
    "print(len(X_yes_upsampled))"
   ]
  },
  {
   "cell_type": "code",
   "execution_count": 95,
   "id": "b9614944",
   "metadata": {},
   "outputs": [
    {
     "data": {
      "text/plain": [
       "Text(0.5, 1.0, 'Class Distribution After Resampling')"
      ]
     },
     "execution_count": 95,
     "metadata": {},
     "output_type": "execute_result"
    },
    {
     "data": {
      "image/png": "[encoded data removed]",
      "text/plain": [
       "<Figure size 432x288 with 1 Axes>"
      ]
     },
     "metadata": {
      "needs_background": "light"
     },
     "output_type": "display_data"
    }
   ],
   "source": [
    "X_upsampled = X_no.append(X_yes_upsampled).reset_index(drop=True)\n",
    "sns.countplot(x='Churn', data=X_upsampled).set_title('Class Distribution After Resampling')"
   ]
  },
  {
   "cell_type": "markdown",
   "id": "6f5d8071",
   "metadata": {},
   "source": [
    "## Model Creatation"
   ]
  },
  {
   "cell_type": "code",
   "execution_count": 63,
   "id": "ac4cd684",
   "metadata": {},
   "outputs": [],
   "source": [
    "from sklearn.model_selection import train_test_split\n",
    "\n",
    "X = X_upsampled.drop(['Churn'], axis=1) #features (independent variables)\n",
    "y = X_upsampled['Churn'] #target (dependent variable)"
   ]
  },
  {
   "cell_type": "code",
   "execution_count": 64,
   "id": "22b2aee3",
   "metadata": {},
   "outputs": [],
   "source": [
    "X_train, X_test, y_train, y_test = train_test_split(X, y, test_size = 0.2, random_state=42)"
   ]
  },
  {
   "cell_type": "markdown",
   "id": "98932ee5",
   "metadata": {},
   "source": [
    "### Ridge Classifier"
   ]
  },
  {
   "cell_type": "code",
   "execution_count": 65,
   "id": "8298e7e3",
   "metadata": {},
   "outputs": [],
   "source": [
    "from sklearn.linear_model import RidgeClassifier\n",
    "from sklearn.metrics import accuracy_score"
   ]
  },
  {
   "cell_type": "code",
   "execution_count": 66,
   "id": "71ebf8b2",
   "metadata": {},
   "outputs": [
    {
     "data": {
      "text/plain": [
       "RidgeClassifier()"
      ]
     },
     "execution_count": 66,
     "metadata": {},
     "output_type": "execute_result"
    }
   ],
   "source": [
    "clf_ridge = RidgeClassifier() #create a ridge classifier object\n",
    "clf_ridge.fit(X_train, y_train) #train the model"
   ]
  },
  {
   "cell_type": "code",
   "execution_count": 67,
   "id": "aab7a20f",
   "metadata": {},
   "outputs": [
    {
     "data": {
      "text/plain": [
       "0.7574293307562213"
      ]
     },
     "execution_count": 67,
     "metadata": {},
     "output_type": "execute_result"
    }
   ],
   "source": [
    "pred = clf_ridge.predict(X_train)\n",
    "accuracy_score(y_train, pred)"
   ]
  },
  {
   "cell_type": "code",
   "execution_count": 68,
   "id": "253f3689",
   "metadata": {},
   "outputs": [
    {
     "data": {
      "text/plain": [
       "0.7608695652173914"
      ]
     },
     "execution_count": 68,
     "metadata": {},
     "output_type": "execute_result"
    }
   ],
   "source": [
    "pred_test = clf_ridge.predict(X_test)\n",
    "accuracy_score(y_test, pred_test)"
   ]
  },
  {
   "cell_type": "markdown",
   "id": "349e65cb",
   "metadata": {},
   "source": [
    "### Random Forest"
   ]
  },
  {
   "cell_type": "code",
   "execution_count": 69,
   "id": "ec8b02c6",
   "metadata": {},
   "outputs": [],
   "source": [
    "from sklearn.ensemble import RandomForestClassifier"
   ]
  },
  {
   "cell_type": "code",
   "execution_count": 70,
   "id": "3a8522b8",
   "metadata": {},
   "outputs": [
    {
     "data": {
      "text/plain": [
       "RandomForestClassifier(max_depth=10)"
      ]
     },
     "execution_count": 70,
     "metadata": {},
     "output_type": "execute_result"
    }
   ],
   "source": [
    "clf_forest = RandomForestClassifier(n_estimators=100, max_depth=10)\n",
    "clf_forest.fit(X_train, y_train)"
   ]
  },
  {
   "cell_type": "code",
   "execution_count": 71,
   "id": "1d4a8a93",
   "metadata": {},
   "outputs": [
    {
     "data": {
      "text/plain": [
       "0.8833051461705727"
      ]
     },
     "execution_count": 71,
     "metadata": {},
     "output_type": "execute_result"
    }
   ],
   "source": [
    "pred = clf_forest.predict(X_train)\n",
    "accuracy_score(y_train, pred)"
   ]
  },
  {
   "cell_type": "code",
   "execution_count": 72,
   "id": "e3cb0b6c",
   "metadata": {},
   "outputs": [
    {
     "data": {
      "text/plain": [
       "0.842512077294686"
      ]
     },
     "execution_count": 72,
     "metadata": {},
     "output_type": "execute_result"
    }
   ],
   "source": [
    "pred_test = clf_forest.predict(X_test)\n",
    "accuracy_score(y_test, pred_test)"
   ]
  },
  {
   "cell_type": "markdown",
   "id": "83f16f53",
   "metadata": {},
   "source": [
    "## Improving the Model with GridSearch"
   ]
  },
  {
   "cell_type": "code",
   "execution_count": 73,
   "id": "7107edfb",
   "metadata": {},
   "outputs": [],
   "source": [
    "from sklearn.model_selection import GridSearchCV"
   ]
  },
  {
   "cell_type": "code",
   "execution_count": 74,
   "id": "0c40a2d2",
   "metadata": {},
   "outputs": [],
   "source": [
    "parameters = {'n_estimators':[150,200,250,300], 'max_depth':[15,20,25]}\n",
    "forest = RandomForestClassifier()\n",
    "clf = GridSearchCV(estimator=forest, param_grid=parameters, n_jobs=-1, cv=5)"
   ]
  },
  {
   "cell_type": "code",
   "execution_count": 75,
   "id": "b1cc2942",
   "metadata": {},
   "outputs": [
    {
     "data": {
      "text/plain": [
       "GridSearchCV(cv=5, estimator=RandomForestClassifier(), n_jobs=-1,\n",
       "             param_grid={'max_depth': [15, 20, 25],\n",
       "                         'n_estimators': [150, 200, 250, 300]})"
      ]
     },
     "execution_count": 75,
     "metadata": {},
     "output_type": "execute_result"
    }
   ],
   "source": [
    "clf.fit(X, y)"
   ]
  },
  {
   "cell_type": "code",
   "execution_count": 76,
   "id": "5a682b23",
   "metadata": {},
   "outputs": [
    {
     "data": {
      "text/plain": [
       "0.8989180518488944"
      ]
     },
     "execution_count": 76,
     "metadata": {},
     "output_type": "execute_result"
    }
   ],
   "source": [
    "clf.best_params_\n",
    "{'max_depth': 20, 'n_estimators': 150}\n",
    "clf.best_score_"
   ]
  },
  {
   "cell_type": "code",
   "execution_count": null,
   "id": "70735b94",
   "metadata": {},
   "outputs": [],
   "source": []
  }
 ],
 "metadata": {
  "kernelspec": {
   "display_name": "Python 3 (ipykernel)",
   "language": "python",
   "name": "python3"
  },
  "language_info": {
   "codemirror_mode": {
    "name": "ipython",
    "version": 3
   },
   "file_extension": ".py",
   "mimetype": "text/x-python",
   "name": "python",
   "nbconvert_exporter": "python",
   "pygments_lexer": "ipython3",
   "version": "3.9.10"
  }
 },
 "nbformat": 4,
 "nbformat_minor": 5
}
